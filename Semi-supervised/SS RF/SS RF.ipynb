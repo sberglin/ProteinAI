{
 "cells": [
  {
   "cell_type": "markdown",
   "metadata": {},
   "source": [
    "# Semi-supervised Random Forests"
   ]
  },
  {
   "cell_type": "code",
   "execution_count": 1,
   "metadata": {},
   "outputs": [],
   "source": [
    "import pandas as pd\n",
    "import numpy as np\n",
    "from sklearn.model_selection import train_test_split, KFold\n",
    "from sklearn.ensemble import RandomForestClassifier\n",
    "from sklearn.utils import check_random_state\n",
    "from copy import deepcopy\n",
    "import matplotlib.pyplot as plt\n",
    "import scipy.io\n",
    "from tqdm import tqdm\n",
    "import pdb\n",
    "import random"
   ]
  },
  {
   "cell_type": "code",
   "execution_count": 2,
   "metadata": {},
   "outputs": [],
   "source": [
    "random.seed(2019)"
   ]
  },
  {
   "cell_type": "markdown",
   "metadata": {},
   "source": [
    "**Important Hyperparameters**\n",
    "- $T_0$ and $\\lambda$: the starting temperature and decay rate of the cooling function, respectively. These are the main two that concern us.\n",
    "- $\\alpha$: In the paper, all experiments were done with $\\alpha = 0.1$.\n",
    "\n",
    "**Temperature**: Our cooling function is $c(T) = T_0 \\exp(-\\lambda T)$ where $\\lambda$ is our cooling parameter. When the temperature is high, the distribution is close to a uniform distribution and the labels sampled for the unlabeled set will be more random. On the other hand, at very low temperatures it approaches a Dirac distribution centered at whatever class minimized the margin-maximizing loss function $l(g_i(x))$ in Equation 19 of the paper."
   ]
  },
  {
   "cell_type": "code",
   "execution_count": 3,
   "metadata": {},
   "outputs": [],
   "source": [
    "class SSRF():\n",
    "    \n",
    "    def __init__(self, T0 = 1e-2, decay_rate = 0.15, alpha = 0.1):\n",
    "        self.T0 = T0\n",
    "        self.decay_rate = decay_rate\n",
    "        self.alpha = alpha\n",
    "        self.forests = None\n",
    "        self.valid_errors = None\n",
    "        self.test_errors = None\n",
    "        self.oobe_errors = None\n",
    "    \n",
    "    # Cooling Function\n",
    "    def cool(self, T):\n",
    "        return(self.T0 * np.exp(-self.decay_rate * T))\n",
    "    \n",
    "    # Loss Function: Hinge Loss (Related to Gini index)\n",
    "    @staticmethod\n",
    "    def loss(margin_value):\n",
    "        return(max(0, -margin_value))\n",
    "    \n",
    "    # New Fitted Class Distributions (Eq. 19)\n",
    "    def compute_p_star(self, margin_vector, T):\n",
    "        unnormalized_dist = [np.exp(-(self.alpha * self.loss(m) + T) / T) for m in margin_vector]\n",
    "        normalized_dist = [i / sum(unnormalized_dist) for i in unnormalized_dist]\n",
    "        return(normalized_dist)\n",
    "    \n",
    "    def train(self, X_l, y_l, X_u, X_test = None, y_test = None, n_trees = 100, n_epoch = 20,\n",
    "              valid_size = 0.3):\n",
    "        # Getting validation split and and showing size of sets\n",
    "        X_l, X_l_valid, y_l, y_l_valid = train_test_split(X_l, y_l, test_size = valid_size)\n",
    "        # Storing training data (for oobe)\n",
    "        self.X_l, self.y_l, self.X_u = X_l, y_l, X_u\n",
    "        # Setting Initial Temperature\n",
    "        T = self.cool(0)\n",
    "        # Training RF and getting initial validation error rate\n",
    "        pdb.set_trace()\n",
    "        labeled_rf = RandomForestClassifier(n_estimators = n_trees, oob_score = True).fit(X_l, y_l)\n",
    "        valid_errors = [1 - labeled_rf.score(X_l_valid, y_l_valid)]\n",
    "        oob_errors = [1 - labeled_rf.oob_score_]\n",
    "        test_errors = [1 - labeled_rf.score(X_test, y_test)]\n",
    "        forests = [labeled_rf]\n",
    "        # Misc Setup For Algorithm\n",
    "        n_u = X_u.shape[0]\n",
    "        X_n = pd.concat((X_l, X_u))\n",
    "        K = len(labeled_rf.classes_)\n",
    "        # Main Loop\n",
    "        for m in [i+1 for i in range(n_epoch)]:\n",
    "            # Setup\n",
    "            T = self.cool(T)\n",
    "            prior_forest = forests[m-1]\n",
    "            # Getting new probability distributions\n",
    "            margins = prior_forest.predict_proba(X_u) - np.full((X_u.shape[0], K), 1 / K)\n",
    "            p_star = np.apply_along_axis(self.compute_p_star, 1, margins, T = T)\n",
    "            # Training new trees in forest\n",
    "            new_forest = deepcopy(prior_forest)\n",
    "            for tree in range(n_trees):\n",
    "                y_u_hat = pd.Series([np.random.choice(prior_forest.classes_, p = p_star[i]) for i in range(n_u)])\n",
    "                y_hat = pd.Series.append(y_l, y_u_hat)\n",
    "                new_estimator = RandomForestClassifier(n_estimators=1).fit(X_n,y_hat).estimators_[0]\n",
    "                new_forest.estimators_[tree] = new_estimator\n",
    "            # Storing Forest and New Error Rates\n",
    "            forests.append(new_forest)\n",
    "            valid_errors.append(1 - new_forest.score(X_l_valid, y_l_valid))\n",
    "            oob_errors.append(1 - self.get_oobe(new_forest))\n",
    "            test_errors.append(1 - new_forest.score(X_test, y_test))\n",
    "        self.forests = forests\n",
    "        self.valid_errors = valid_errors\n",
    "        self.oob_errors = oob_errors \n",
    "        self.test_errors = test_errors\n",
    "    \n",
    "    def errors(self):\n",
    "        return([self.valid_errors, self.oob_errors, self.test_errors])\n",
    "    \n",
    "    def get_oobe(self, forest):\n",
    "        n_labeled = self.y_l.shape[0]\n",
    "        n_total = n_labeled + self.X_u.shape[0]\n",
    "        classes = forest.classes_\n",
    "        n_classes = len(classes)\n",
    "        votes = np.zeros((n_labeled, n_classes))\n",
    "        # Each estimator voting on its respective oob cases\n",
    "        for estimator in forest.estimators_:\n",
    "            unsampled_indices = SSRF._get_unsampled_labeled_indices(estimator.random_state, n_labeled, n_total)\n",
    "            if unsampled_indices.shape[0] == 0:\n",
    "                continue\n",
    "            votes[unsampled_indices, :] += estimator.predict_proba(self.X_l.iloc[unsampled_indices, :])\n",
    "        if (votes.sum(axis=1) == 0).any():\n",
    "            warn(\"Some inputs do not have OOB scores. This probably means too few trees were used \"\n",
    "                 \"to compute any reliable oob estimates.\")\n",
    "        # Comparing Predictions to y_l\n",
    "        predictions = np.array([classes[i] for i in np.argmax(votes, axis = 1)])\n",
    "        oobe = 1 - np.mean(np.array(self.y_l) == predictions)\n",
    "        return(oobe)\n",
    "    \n",
    "    @staticmethod\n",
    "    def _get_unsampled_labeled_indices(random_state, n_labeled, n_total):\n",
    "        \"\"\" Exact the combination of 2 functions in sklearn.ensemble.RandomForestClassifer \"\"\" \n",
    "        # Getting unsampled indices (forest._generate_unsampled_indices)\n",
    "        random_instance = check_random_state(random_state)\n",
    "        sample_indices = random_instance.randint(0, n_total, n_total)\n",
    "        sample_counts = np.bincount(sample_indices, minlength=n_total)\n",
    "        unsampled_mask = sample_counts == 0\n",
    "        indices_range = np.arange(n_total)\n",
    "        unsampled_indices = indices_range[unsampled_mask]\n",
    "        # Only keeping labeled unsampled indices\n",
    "        unsampled_labeled_indices = unsampled_indices[unsampled_indices < n_labeled]\n",
    "#         # Getting rid of unlabeled counts\n",
    "#         sample_counts[n_labeled:] = np.ones(n_total - n_labeled)\n",
    "#         # Finding unsampled and labeled indices\n",
    "#         unsampled_mask = sample_counts == 0\n",
    "#         indices_range = np.arange(n_total)\n",
    "#         unsampled_indices = indices_range[unsampled_mask]\n",
    "        return(unsampled_labeled_indices)"
   ]
  },
  {
   "cell_type": "markdown",
   "metadata": {},
   "source": [
    "# Evaluation Procedure"
   ]
  },
  {
   "cell_type": "code",
   "execution_count": 4,
   "metadata": {},
   "outputs": [],
   "source": [
    "def evaluate_SSRF(X, y, n_trees = 100, n_epoch = 20, valid_size = 0.3, prop_unlabeled = 0.95,\n",
    "                 n_fold = 10, T0 = 1e-2, decay_rate = 0.15, alpha = 0.1):\n",
    "    # Checking data types\n",
    "    if not isinstance(X, pd.DataFrame) or not isinstance(y, pd.Series):\n",
    "        raise Exception(\"X and y must be a DataFrame and a series, respectively.\")\n",
    "    # Setup for plots\n",
    "    fig, (ax1, ax2, ax3) = plt.subplots(1, 3, figsize = (16,4))\n",
    "    ax1.set_ylim([0, 1.0])\n",
    "    ax1.set_title(\"Validation Error\")\n",
    "    ax1.set_ylabel(\"Forest Error Rate\")\n",
    "    ax1.set_xlabel(\"Iteration\")\n",
    "    ax2.set_ylim([0, 1.0])\n",
    "    ax2.set_title(\"OOB Error\")\n",
    "    ax2.set_ylabel(\"Forest Error Rate\")\n",
    "    ax2.set_xlabel(\"Iteration\")\n",
    "    ax3.set_ylim([0, 1.0])\n",
    "    ax3.set_title(\"Test Error\")\n",
    "    ax3.set_ylabel(\"Forest Error Rate\")\n",
    "    ax3.set_xlabel(\"Iteration\")\n",
    "    # Cross-validating\n",
    "    kf = KFold(n_splits = n_fold, shuffle = True)\n",
    "    valid_errors, oob_errors, test_errors = [], [], []\n",
    "    first_fold = True\n",
    "    for train_index, test_index in tqdm(kf.split(X)):\n",
    "        # Getting training (labeled and unlabeled) and testing\n",
    "        X_train, X_test = X.iloc[train_index], X.iloc[test_index]\n",
    "        y_train, y_test = y.iloc[train_index], y.iloc[test_index]\n",
    "        X_l, X_u, y_l, y_u = train_test_split(X_train, y_train,\n",
    "                                              test_size = prop_unlabeled)\n",
    "        # Displaying data sizes\n",
    "        if first_fold:\n",
    "            print(\"Labeled Training Set Size =\", round(X_l.shape[0] * (1 - valid_size)),\n",
    "                  \"| Unlabeled Set Size =\", X_u.shape[0],\n",
    "                  \"\\nLabeled Validation Set Size =\", round(X_l.shape[0] * valid_size),\n",
    "                  \"| Test Set Size =\", X_test.shape[0])\n",
    "            first_fold = False\n",
    "        # Training SSRF\n",
    "        ssrf = SSRF(T0, decay_rate, alpha)\n",
    "        ssrf.train(X_l, y_l, X_u, X_test, y_test, n_trees, n_epoch, valid_size)\n",
    "#         # Debugging\n",
    "#         pdb.set_trace()\n",
    "#         me = ssrf.get_oobe(ssrf.forests[0])\n",
    "#         true = 1 - ssrf.forests[0].oob_score_\n",
    "#         if (me == true).all():\n",
    "#             print(\"OOBE Correct!\")\n",
    "        valid_error, oob_error, test_error = ssrf.errors()\n",
    "        # Plotting and Storing Errors\n",
    "        ax1.plot(valid_error, \"b\", alpha = 0.3)\n",
    "        ax2.plot(oob_error, \"g\", alpha = 0.3)\n",
    "        ax3.plot(test_error, \"r\", alpha = 0.3)\n",
    "        valid_errors.append(valid_error)\n",
    "        oob_errors.append(oob_error)\n",
    "        test_errors.append(test_error)\n",
    "    # Plotting Mean Errors\n",
    "    mean_valid_error = np.mean(np.array(valid_errors), axis = 0)\n",
    "    mean_oob_error = np.mean(np.array(oob_errors), axis = 0)\n",
    "    mean_test_error = np.mean(np.array(test_errors), axis = 0)\n",
    "    ax1.plot(mean_valid_error, \"k\")\n",
    "    ax2.plot(mean_oob_error, \"k\")\n",
    "    ax3.plot(mean_test_error, \"k\")\n",
    "    plt.show()"
   ]
  },
  {
   "cell_type": "markdown",
   "metadata": {},
   "source": [
    "# g50c\n",
    "This [dataset](http://olivier.chapelle.cc/lds/) is from the original SS RF paper."
   ]
  },
  {
   "cell_type": "code",
   "execution_count": 5,
   "metadata": {},
   "outputs": [],
   "source": [
    "g50c = scipy.io.loadmat('data/g50c.mat')\n",
    "g50c_X = pd.DataFrame(g50c[\"X\"])\n",
    "g50c_y = pd.Series(g50c[\"y\"].ravel())"
   ]
  },
  {
   "cell_type": "markdown",
   "metadata": {},
   "source": [
    "### Testing My OOBE vs. sklearn's OOBE"
   ]
  },
  {
   "cell_type": "code",
   "execution_count": null,
   "metadata": {},
   "outputs": [],
   "source": [
    "# oobe testing code"
   ]
  },
  {
   "cell_type": "markdown",
   "metadata": {},
   "source": [
    "### Regular Evaluation"
   ]
  },
  {
   "cell_type": "code",
   "execution_count": null,
   "metadata": {},
   "outputs": [],
   "source": [
    "# TEST THESE VALUES TO GET IDEA OF WHAT decay_rate DOES\n",
    "evaluate_SSRF(g50c_X, g50c_y, T0 = 4e-2, decay_rate = .05, n_fold = 3)\n",
    "# evaluate_SSRF(g50c_X, g50c_y, T0 = 4e-2, decay_rate = 3., n_fold = 5)\n",
    "# evaluate_SSRF(g50c_X, g50c_y, T0 = 4e-2, decay_rate = 6., n_fold = 5)"
   ]
  },
  {
   "cell_type": "markdown",
   "metadata": {},
   "source": [
    "# P450"
   ]
  },
  {
   "cell_type": "code",
   "execution_count": 4,
   "metadata": {},
   "outputs": [],
   "source": [
    "p450 = pd.read_csv(\"data/p450.csv\")\n",
    "p450_X = p450.iloc[:, 1:]\n",
    "p450_y = p450.iloc[:, 0]"
   ]
  },
  {
   "cell_type": "code",
   "execution_count": null,
   "metadata": {},
   "outputs": [],
   "source": [
    "evaluate_SSRF(p450_X, p450_y, T0 = 2e-2)"
   ]
  },
  {
   "cell_type": "markdown",
   "metadata": {},
   "source": [
    "# Lactamase"
   ]
  },
  {
   "cell_type": "code",
   "execution_count": 66,
   "metadata": {},
   "outputs": [],
   "source": [
    "lactamase = pd.read_csv(\"data/lactamase.csv\")\n",
    "lactamase_X = lactamase.iloc[:, 1:]\n",
    "lactamase_y = lactamase.iloc[:, 0]"
   ]
  },
  {
   "cell_type": "code",
   "execution_count": 67,
   "metadata": {},
   "outputs": [
    {
     "name": "stderr",
     "output_type": "stream",
     "text": [
      "0it [00:00, ?it/s]"
     ]
    },
    {
     "name": "stdout",
     "output_type": "stream",
     "text": [
      "Training Set Size = 397.6 \n",
      "Labeled Set Size = 74 \n",
      "Unlabeled Set Size = 423 \\Validation Set Size = 15 \n",
      "Test Set Size = 56\n"
     ]
    },
    {
     "name": "stderr",
     "output_type": "stream",
     "text": [
      "10it [04:49, 28.90s/it]\n"
     ]
    },
    {
     "data": {
      "image/png": "[encoded data removed]",
      "text/plain": [
       "<matplotlib.figure.Figure at 0x120cb3080>"
      ]
     },
     "metadata": {},
     "output_type": "display_data"
    }
   ],
   "source": [
    "evaluate_SSRF(lactamase_X, lactamase_y)"
   ]
  },
  {
   "cell_type": "markdown",
   "metadata": {},
   "source": [
    "# Letter\n",
    "This [dataset](https://archive.ics.uci.edu/ml/datasets/letter+recognition) is from the original SS RF paper."
   ]
  },
  {
   "cell_type": "code",
   "execution_count": 8,
   "metadata": {},
   "outputs": [],
   "source": [
    "letter = pd.read_csv(\"data/letter.csv\")\n",
    "letter_X = letter.iloc[:, 1:]\n",
    "letter_y = letter.iloc[:, 0]"
   ]
  },
  {
   "cell_type": "code",
   "execution_count": null,
   "metadata": {},
   "outputs": [],
   "source": [
    "evaluate_SSRF(letter_X, letter_y, T0 = 1e-4, decay_rate = 0.35, alpha = 0.1, n_fold = 5)"
   ]
  },
  {
   "cell_type": "code",
   "execution_count": null,
   "metadata": {},
   "outputs": [],
   "source": []
  }
 ],
 "metadata": {
  "kernelspec": {
   "display_name": "Python 3",
   "language": "python",
   "name": "python3"
  },
  "language_info": {
   "codemirror_mode": {
    "name": "ipython",
    "version": 3
   },
   "file_extension": ".py",
   "mimetype": "text/x-python",
   "name": "python",
   "nbconvert_exporter": "python",
   "pygments_lexer": "ipython3",
   "version": "3.6.2"
  }
 },
 "nbformat": 4,
 "nbformat_minor": 2
}
