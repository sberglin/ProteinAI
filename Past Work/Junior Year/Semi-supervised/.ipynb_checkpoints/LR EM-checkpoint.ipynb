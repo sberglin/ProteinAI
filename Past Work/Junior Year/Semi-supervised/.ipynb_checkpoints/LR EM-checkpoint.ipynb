{
 "cells": [
  {
   "cell_type": "markdown",
   "metadata": {},
   "source": [
    "# Gradient EM for Semi-supervised Linear Regression"
   ]
  },
  {
   "cell_type": "code",
   "execution_count": 9,
   "metadata": {},
   "outputs": [],
   "source": [
    "import numpy as np\n",
    "from sklearn.linear_model import LinearRegression\n",
    "import matplotlib.pyplot as plt\n",
    "from scipy.spatial.distance import cosine"
   ]
  },
  {
   "cell_type": "markdown",
   "metadata": {},
   "source": [
    "## Data Simulation"
   ]
  },
  {
   "cell_type": "code",
   "execution_count": 10,
   "metadata": {},
   "outputs": [],
   "source": [
    "n_total = 700\n",
    "d = 2\n",
    "\n",
    "X = np.reshape(np.random.uniform(size=n_total*d), (n_total,d))\n",
    "Beta = np.random.uniform(low = -10, high = 10, size = d)\n",
    "noise = np.random.normal(loc = 0, scale = 10, size = n_total)\n",
    "Y = X @ Beta + noise"
   ]
  },
  {
   "cell_type": "markdown",
   "metadata": {},
   "source": [
    "## Experiment Setup"
   ]
  },
  {
   "cell_type": "code",
   "execution_count": 11,
   "metadata": {},
   "outputs": [],
   "source": [
    "# Dividing data into labeled and unlabeled (pu% of data is unlabeled)\n",
    "pu = 0.8\n",
    "u_i = np.random.rand(len(X)) < pu\n",
    "Xu = X[u_i]\n",
    "Yu = Y[u_i]\n",
    "Xl = X[~u_i]\n",
    "Yl = Y[~u_i]\n",
    "\n",
    "# Dividing Data into training (80%) and testing (20%)\n",
    "train_i = np.random.rand(len(Xl)) < 0.8\n",
    "Xl_train = Xl[train_i]\n",
    "Yl_train = Yl[train_i]\n",
    "X_train = np.concatenate((Xl_train, Xu))\n",
    "Xl_test = Xl[~train_i]\n",
    "Yl_test = Yl[~train_i]"
   ]
  },
  {
   "cell_type": "markdown",
   "metadata": {},
   "source": [
    "## Data Display"
   ]
  },
  {
   "cell_type": "code",
   "execution_count": 12,
   "metadata": {},
   "outputs": [
    {
     "data": {
      "image/png": "[encoded data removed]",
      "text/plain": [
       "<matplotlib.figure.Figure at 0x11eecae80>"
      ]
     },
     "metadata": {},
     "output_type": "display_data"
    }
   ],
   "source": [
    "labeled = plt.scatter(Xl_train[:,0], Xl_train[:,1], c = \"r\")\n",
    "unlabeled = plt.scatter(Xu[:,0], Xu[:,1], c = \"b\")\n",
    "plt.legend((labeled, unlabeled), (\"Labeled\", \"Unlabeled\"), loc = \"upper left\")\n",
    "plt.show()"
   ]
  },
  {
   "cell_type": "markdown",
   "metadata": {},
   "source": [
    "## Algorithm Setup"
   ]
  },
  {
   "cell_type": "code",
   "execution_count": 13,
   "metadata": {},
   "outputs": [
    {
     "name": "stdout",
     "output_type": "stream",
     "text": [
      "Labeled Testing Mean Squared Error: 135.20286152852034\n"
     ]
    }
   ],
   "source": [
    "# General Setup\n",
    "nl, d = Xl_train.shape\n",
    "nu, _ = Xu.shape\n",
    "sub_size = round(nu * 0.5)\n",
    "\n",
    "# Initializing old parameters\n",
    "B_old = np.zeros(d)\n",
    "dl_old = np.zeros(d)\n",
    "l_old = -np.inf\n",
    "\n",
    "# Initializing current parameters (linear regression on labeled data)\n",
    "labeled_reg = LinearRegression(fit_intercept = False).fit(Xl_train, Yl_train)\n",
    "B = labeled_reg.coef_\n",
    "s = np.array([np.sqrt(1/nl * np.linalg.norm(Yl_train - Xl_train @ B)**2)])\n",
    "\n",
    "# Showing (rough) strength of initial fit\n",
    "print(\"Labeled Testing Mean Squared Error:\", ((labeled_reg.predict(Xl_test) - Yl_test)**2).mean())"
   ]
  },
  {
   "cell_type": "markdown",
   "metadata": {},
   "source": [
    "## Gradient EM\n",
    "To stay consistent with overleaf document, `_old = t-1`, `_new = t+1`, and `<nothing> = t`."
   ]
  },
  {
   "cell_type": "code",
   "execution_count": 34,
   "metadata": {},
   "outputs": [],
   "source": [
    "# Plotting Objects\n",
    "Bs = []       # norm of difference bewteen true beta and current beta\n",
    "ls = []       # likelihood\n",
    "B_grads = []  # random beta gradient component\n",
    "r_B_comp = np.random.randint(low = 0, high = len(B) - 1)\n",
    "\n",
    "for iteration in range(21):\n",
    "\n",
    "#     print(\"Iteration\", iteration, \"Beta =\", B)\n",
    "\n",
    "    # Subsampling\n",
    "    sub = np.random.choice(range(nu), size = sub_size, replace = False)\n",
    "    Xu_sub = Xu[sub,:]\n",
    "    X_train_sub = np.concatenate((Xl_train, Xu_sub))\n",
    "    \n",
    "    # Making (X_i,X_j) matrix for all column pairs\n",
    "    xxdots = np.array([np.apply_along_axis(np.dot, axis = 0, arr = X_train_sub, b = col)\n",
    "                       for col in X_train_sub.T])\n",
    "\n",
    "    # E-step\n",
    "    Yuhat = Xu[sub,:] @ B\n",
    "    Yhat = np.concatenate((Yl_train, Yuhat))\n",
    "\n",
    "    # Checking for Convergence\n",
    "    yxdots = np.apply_along_axis(np.dot, axis = 0, arr = X_train_sub, b = Yhat)\n",
    "    A = np.dot(Yhat, Yhat) - 2*np.dot(B, yxdots) + np.sum((B.reshape(d,1) @ B.reshape(1,d))\n",
    "                                                          * xxdots)\n",
    "    l = -len(Yhat) * np.log(np.sqrt(2*np.pi)*s) - A / (2*s**2)\n",
    "#     if l_old != -np.inf and (l - l_old) / l_old < 0.05:\n",
    "#         break\n",
    "    \n",
    "    # Gradient Step\n",
    "    dl = s**-2 * np.array([yxdots[i] - sum([B[j]*xxdots[i,j] for j in range(d)])\n",
    "                           for i in range(d)])\n",
    "#     gamma = np.dot((B-B_old), (dl-dl_old)) / np.linalg.norm(dl-dl_old)**2  # BB method\n",
    "    gamma = 1e-50  # Constant step size\n",
    "    B_new = B_old + gamma*dl\n",
    "    \n",
    "    # Storing diagnostic information\n",
    "    Bs.append(np.linalg.norm(B - Beta))\n",
    "    ls.append(l)\n",
    "    B_grads.append(dl[r_B_comp])\n",
    "    \n",
    "    # Update values and repeat\n",
    "    B_old = B\n",
    "    B = B_new\n",
    "    l_old = l\n",
    "    dl_old = dl"
   ]
  },
  {
   "cell_type": "markdown",
   "metadata": {},
   "source": [
    "## Diagnostics"
   ]
  },
  {
   "cell_type": "code",
   "execution_count": 1,
   "metadata": {},
   "outputs": [
    {
     "ename": "NameError",
     "evalue": "name 'Xl_test' is not defined",
     "output_type": "error",
     "traceback": [
      "\u001b[0;31m---------------------------------------------------------------------------\u001b[0m",
      "\u001b[0;31mNameError\u001b[0m                                 Traceback (most recent call last)",
      "\u001b[0;32m<ipython-input-1-06353d08d0fe>\u001b[0m in \u001b[0;36m<module>\u001b[0;34m()\u001b[0m\n\u001b[1;32m      1\u001b[0m \u001b[0;31m# Test Mean Squared Error\u001b[0m\u001b[0;34m\u001b[0m\u001b[0;34m\u001b[0m\u001b[0m\n\u001b[0;32m----> 2\u001b[0;31m \u001b[0mprint\u001b[0m\u001b[0;34m(\u001b[0m\u001b[0;34m\"Labeled Testing Mean Squared Error:\"\u001b[0m\u001b[0;34m,\u001b[0m \u001b[0;34m(\u001b[0m\u001b[0;34m(\u001b[0m\u001b[0mXl_test\u001b[0m \u001b[0;34m@\u001b[0m \u001b[0mB\u001b[0m \u001b[0;34m-\u001b[0m \u001b[0mYl_test\u001b[0m\u001b[0;34m)\u001b[0m\u001b[0;34m**\u001b[0m\u001b[0;36m2\u001b[0m\u001b[0;34m)\u001b[0m\u001b[0;34m.\u001b[0m\u001b[0mmean\u001b[0m\u001b[0;34m(\u001b[0m\u001b[0;34m)\u001b[0m\u001b[0;34m)\u001b[0m\u001b[0;34m\u001b[0m\u001b[0m\n\u001b[0m\u001b[1;32m      3\u001b[0m \u001b[0;34m\u001b[0m\u001b[0m\n\u001b[1;32m      4\u001b[0m \u001b[0mplt\u001b[0m\u001b[0;34m.\u001b[0m\u001b[0mfigure\u001b[0m\u001b[0;34m(\u001b[0m\u001b[0;36m1\u001b[0m\u001b[0;34m,\u001b[0m \u001b[0mfigsize\u001b[0m \u001b[0;34m=\u001b[0m \u001b[0;34m(\u001b[0m\u001b[0;36m4\u001b[0m\u001b[0;34m,\u001b[0m\u001b[0;36m12\u001b[0m\u001b[0;34m)\u001b[0m\u001b[0;34m)\u001b[0m\u001b[0;34m\u001b[0m\u001b[0m\n\u001b[1;32m      5\u001b[0m \u001b[0;34m\u001b[0m\u001b[0m\n",
      "\u001b[0;31mNameError\u001b[0m: name 'Xl_test' is not defined"
     ]
    }
   ],
   "source": [
    "# Test Mean Squared Error\n",
    "print(\"Labeled Testing Mean Squared Error:\", ((Xl_test @ B - Yl_test)**2).mean())\n",
    "\n",
    "plt.figure(1, figsize = (12,10))\n",
    "\n",
    "# Plotting Log-likelihood\n",
    "plt.subplot(311)\n",
    "plt.plot(ls)\n",
    "plt.ylabel(\"Log-likelihood\")\n",
    "\n",
    "# Plotting Changes in Parameters\n",
    "plt.subplot(312)\n",
    "plt.plot(Bs, \"r\")\n",
    "plt.ylabel(\"Distance from True Beta\")\n",
    "\n",
    "# Plotting Changes in Gradient\n",
    "plt.subplot(313)\n",
    "plt.plot(B_grads, \"b\")\n",
    "plt.ylabel(\"Random Gradient Component\")\n",
    "plt.xlabel(\"Iteration\")\n",
    "\n",
    "plt.show()"
   ]
  },
  {
   "cell_type": "code",
   "execution_count": null,
   "metadata": {},
   "outputs": [],
   "source": []
  },
  {
   "cell_type": "code",
   "execution_count": null,
   "metadata": {},
   "outputs": [],
   "source": []
  }
 ],
 "metadata": {
  "kernelspec": {
   "display_name": "Python 3",
   "language": "python",
   "name": "python3"
  },
  "language_info": {
   "codemirror_mode": {
    "name": "ipython",
    "version": 3
   },
   "file_extension": ".py",
   "mimetype": "text/x-python",
   "name": "python",
   "nbconvert_exporter": "python",
   "pygments_lexer": "ipython3",
   "version": "3.6.2"
  }
 },
 "nbformat": 4,
 "nbformat_minor": 2
}
