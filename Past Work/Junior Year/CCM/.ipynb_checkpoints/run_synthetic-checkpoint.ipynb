{
 "cells": [
  {
   "cell_type": "markdown",
   "metadata": {},
   "source": [
    "# run_synthetic.py as Jupyter Notebook\n",
    "All changes are only to make it run."
   ]
  },
  {
   "cell_type": "markdown",
   "metadata": {},
   "source": [
    "This script runs CCM on three example datasets. These datasets correspond to the synthetic datasets in the paper.\n",
    "\n",
    "Type of the datasets are binary classification, categorical classification, and regression respectively."
   ]
  },
  {
   "cell_type": "code",
   "execution_count": 13,
   "metadata": {},
   "outputs": [],
   "source": [
    "# EDIT\n",
    "import sys\n",
    "sys.path.insert(0, 'examples')\n",
    "\n",
    "from __future__ import print_function\n",
    "import numpy as np\n",
    "from make_synthetic_data import generate_data\n",
    "sys.path.append('core')\n",
    "import ccm"
   ]
  },
  {
   "cell_type": "markdown",
   "metadata": {},
   "source": [
    "# Binary Classification (Orange Skin Dataset)"
   ]
  },
  {
   "cell_type": "code",
   "execution_count": 14,
   "metadata": {},
   "outputs": [
    {
     "name": "stdout",
     "output_type": "stream",
     "text": [
      "The four features selected by CCM on the orange skin dataset are features [2 0 1 3]\n"
     ]
    }
   ],
   "source": [
    "X, Y = generate_data(n=100, datatype='orange_skin', seed = 0)\n",
    "epsilon = 0.001; num_features = 4; type_Y = 'binary'\n",
    "rank = ccm.ccm(X, Y, num_features, type_Y, epsilon, iterations = 100, verbose = False)\n",
    "selected_feats = np.argsort(rank)[:4]\n",
    "print('The four features selected by CCM on the orange skin dataset are features {}'.format(selected_feats))"
   ]
  },
  {
   "cell_type": "markdown",
   "metadata": {},
   "source": [
    "# 4-Way Classification (XOR Dataset)"
   ]
  },
  {
   "cell_type": "code",
   "execution_count": 7,
   "metadata": {},
   "outputs": [
    {
     "name": "stdout",
     "output_type": "stream",
     "text": [
      "The three features selected by CCM on the XOR dataset are features [0 2 1]\n"
     ]
    }
   ],
   "source": [
    "X, Y = generate_data(n=100, datatype='XOR', seed = 0)\n",
    "epsilon = 0.001; num_features = 3; type_Y = 'categorical'\n",
    "rank = ccm.ccm(X, Y, num_features, type_Y, epsilon, iterations = 100, verbose = False) \n",
    "selected_feats = np.argsort(rank)[:3]\n",
    "print('The three features selected by CCM on the XOR dataset are features {}'.format(selected_feats))"
   ]
  },
  {
   "cell_type": "markdown",
   "metadata": {},
   "source": [
    "# Additive Nonlinear Regression"
   ]
  },
  {
   "cell_type": "markdown",
   "metadata": {},
   "source": [
    "### (Nonlinear Regression Dataset)"
   ]
  },
  {
   "cell_type": "code",
   "execution_count": 8,
   "metadata": {},
   "outputs": [
    {
     "name": "stdout",
     "output_type": "stream",
     "text": [
      "The four features selected by CCM on the nonlinear regression dataset are features [3 2 1 0]\n"
     ]
    }
   ],
   "source": [
    "X, Y = generate_data(n=100, datatype='regression', seed = 0)\n",
    "epsilon = 0.1; num_features = 4; type_Y = 'real-valued'\n",
    "rank = ccm.ccm(X, Y, num_features, type_Y, epsilon, verbose = False) \n",
    "selected_feats = np.argsort(rank)[:4]\n",
    "print('The four features selected by CCM on the nonlinear regression dataset are features {}'.format(selected_feats))"
   ]
  },
  {
   "cell_type": "markdown",
   "metadata": {},
   "source": [
    "### (Approximate Nonlinear Regression Dataset)"
   ]
  },
  {
   "cell_type": "code",
   "execution_count": 9,
   "metadata": {},
   "outputs": [
    {
     "name": "stdout",
     "output_type": "stream",
     "text": [
      "The four features selected by CCM on the approximate nonlinear regression dataset are features [3 2 1 9]\n"
     ]
    }
   ],
   "source": [
    "X, Y = generate_data(n=100, datatype='regression_approx', seed = 0)\n",
    "epsilon = 0.1; num_features = 4; type_Y = 'real-valued'\n",
    "rank = ccm.ccm(X, Y, num_features, type_Y, epsilon, D_approx=5, verbose = False) \n",
    "selected_feats = np.argsort(rank)[:4]\n",
    "print('The four features selected by CCM on the approximate nonlinear regression dataset are features {}'.format(selected_feats))"
   ]
  },
  {
   "cell_type": "code",
   "execution_count": null,
   "metadata": {},
   "outputs": [],
   "source": []
  }
 ],
 "metadata": {
  "kernelspec": {
   "display_name": "Python 3",
   "language": "python",
   "name": "python3"
  },
  "language_info": {
   "codemirror_mode": {
    "name": "ipython",
    "version": 3
   },
   "file_extension": ".py",
   "mimetype": "text/x-python",
   "name": "python",
   "nbconvert_exporter": "python",
   "pygments_lexer": "ipython3",
   "version": "3.6.2"
  }
 },
 "nbformat": 4,
 "nbformat_minor": 2
}
