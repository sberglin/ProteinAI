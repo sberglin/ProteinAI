{
 "cells": [
  {
   "cell_type": "markdown",
   "metadata": {},
   "source": [
    "# run_synthetic.py as Jupyter Notebook\n",
    "All changes are only to make it run."
   ]
  },
  {
   "cell_type": "markdown",
   "metadata": {},
   "source": [
    "This script runs CCM on three example datasets. These datasets correspond to the synthetic datasets in the paper.\n",
    "\n",
    "Type of the datasets are binary classification, categorical classification, and regression respectively."
   ]
  },
  {
   "cell_type": "code",
   "execution_count": 1,
   "metadata": {},
   "outputs": [
    {
     "ename": "ModuleNotFoundError",
     "evalue": "No module named 'ccm'",
     "output_type": "error",
     "traceback": [
      "\u001b[0;31m---------------------------------------------------------------------------\u001b[0m",
      "\u001b[0;31mModuleNotFoundError\u001b[0m                       Traceback (most recent call last)",
      "\u001b[0;32m<ipython-input-1-1a950ab40696>\u001b[0m in \u001b[0;36m<module>\u001b[0;34m()\u001b[0m\n\u001b[1;32m      4\u001b[0m \u001b[0;32mimport\u001b[0m \u001b[0msys\u001b[0m\u001b[0;34m\u001b[0m\u001b[0m\n\u001b[1;32m      5\u001b[0m \u001b[0msys\u001b[0m\u001b[0;34m.\u001b[0m\u001b[0mpath\u001b[0m\u001b[0;34m.\u001b[0m\u001b[0mappend\u001b[0m\u001b[0;34m(\u001b[0m\u001b[0;34m'core'\u001b[0m\u001b[0;34m)\u001b[0m\u001b[0;34m\u001b[0m\u001b[0m\n\u001b[0;32m----> 6\u001b[0;31m \u001b[0;32mimport\u001b[0m \u001b[0mccm\u001b[0m\u001b[0;34m\u001b[0m\u001b[0m\n\u001b[0m",
      "\u001b[0;31mModuleNotFoundError\u001b[0m: No module named 'ccm'"
     ]
    }
   ],
   "source": [
    "from __future__ import print_function\n",
    "import numpy as np\n",
    "from make_synthetic_data import generate_data\n",
    "import sys\n",
    "sys.path.append('core')\n",
    "import ccm"
   ]
  },
  {
   "cell_type": "code",
   "execution_count": null,
   "metadata": {},
   "outputs": [],
   "source": [
    "print('Running CCM on the orange skin dataset...')\n",
    "X, Y = generate_data(n=100, datatype='orange_skin', seed = 0)\n",
    "epsilon = 0.001; num_features = 4; type_Y = 'binary'\n",
    "rank = ccm.ccm(X, Y, num_features, type_Y, \n",
    "\tepsilon, iterations = 100, verbose = False)\n",
    "selected_feats = np.argsort(rank)[:4]\n",
    "print('The four features selected by CCM on the orange skin dataset are features {}'.format(selected_feats))"
   ]
  },
  {
   "cell_type": "code",
   "execution_count": null,
   "metadata": {},
   "outputs": [],
   "source": [
    "print('-------------------------------------------')\n",
    "print('Running CCM on the XOR dataset...')\n",
    "X, Y = generate_data(n=100, datatype='XOR', seed = 0)\n",
    "epsilon = 0.001; num_features = 3; type_Y = 'categorical'\n",
    "rank = ccm.ccm(X, Y, num_features, type_Y, epsilon, iterations = 100, verbose = False) \n",
    "selected_feats = np.argsort(rank)[:3]\n",
    "print('The three features selected by CCM on the XOR dataset are features {}'.format(selected_feats))"
   ]
  },
  {
   "cell_type": "code",
   "execution_count": null,
   "metadata": {},
   "outputs": [],
   "source": [
    "print('-------------------------------------------')\n",
    "print('Running CCM on the nonlinear regression dataset...')\n",
    "X, Y = generate_data(n=100, datatype='regression', seed = 0)\n",
    "epsilon = 0.1; num_features = 4; type_Y = 'real-valued'\n",
    "rank = ccm.ccm(X, Y, num_features, type_Y, epsilon, verbose = False) \n",
    "selected_feats = np.argsort(rank)[:4]\n",
    "print('The four features selected by CCM on the nonlinear regression dataset are features {}'.format(selected_feats))"
   ]
  },
  {
   "cell_type": "code",
   "execution_count": null,
   "metadata": {},
   "outputs": [],
   "source": [
    "print('-------------------------------------------')\n",
    "print('Running CCM on the approximate nonlinear regression dataset...')\n",
    "X, Y = generate_data(n=100, datatype='regression_approx', seed = 0)\n",
    "epsilon = 0.1; num_features = 4; type_Y = 'real-valued'\n",
    "rank = ccm.ccm(X, Y, num_features, type_Y, epsilon, D_approx=5, verbose = False) \n",
    "selected_feats = np.argsort(rank)[:4]\n",
    "print('The four features selected by CCM on the approximate nonlinear regression dataset are features {}'.format(selected_feats))"
   ]
  }
 ],
 "metadata": {
  "kernelspec": {
   "display_name": "Python 3",
   "language": "python",
   "name": "python3"
  },
  "language_info": {
   "codemirror_mode": {
    "name": "ipython",
    "version": 3
   },
   "file_extension": ".py",
   "mimetype": "text/x-python",
   "name": "python",
   "nbconvert_exporter": "python",
   "pygments_lexer": "ipython3",
   "version": "3.6.2"
  }
 },
 "nbformat": 4,
 "nbformat_minor": 2
}
