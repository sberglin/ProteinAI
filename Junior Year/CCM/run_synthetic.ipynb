{
 "cells": [
  {
   "cell_type": "markdown",
   "metadata": {
    "colab_type": "text",
    "id": "5QgczxjSWgZk"
   },
   "source": [
    "# run_synthetic.py as Jupyter Notebook\n",
    "All changes are only to make it run."
   ]
  },
  {
   "cell_type": "markdown",
   "metadata": {
    "colab_type": "text",
    "id": "BIqS5OdiWgZn"
   },
   "source": [
    "This script runs CCM on three example datasets. These datasets correspond to the synthetic datasets in the paper.\n",
    "\n",
    "Type of the datasets are binary classification, categorical classification, and regression respectively."
   ]
  },
  {
   "cell_type": "code",
   "execution_count": 1,
   "metadata": {
    "colab": {
     "base_uri": "https://localhost:8080/",
     "height": 368
    },
    "colab_type": "code",
    "executionInfo": {
     "elapsed": 603,
     "status": "error",
     "timestamp": 1554649872207,
     "user": {
      "displayName": "Sam Berglin",
      "photoUrl": "https://lh5.googleusercontent.com/-tHVELuTbr4Y/AAAAAAAAAAI/AAAAAAAAK4Q/nYiQEAL6kj8/s64/photo.jpg",
      "userId": "00707737104791868755"
     },
     "user_tz": 300
    },
    "id": "D45836vMWgZq",
    "outputId": "39b411ee-cdad-40ff-d7e9-ed07428489e8"
   },
   "outputs": [],
   "source": [
    "# EDIT\n",
    "import sys\n",
    "sys.path.insert(0, 'examples')\n",
    "\n",
    "from __future__ import print_function\n",
    "import numpy as np\n",
    "from make_synthetic_data import generate_data\n",
    "sys.path.append('core')\n",
    "import ccm"
   ]
  },
  {
   "cell_type": "markdown",
   "metadata": {
    "colab_type": "text",
    "id": "e_YEt3MiWgZ0"
   },
   "source": [
    "# Binary Classification (Orange Skin Dataset)"
   ]
  },
  {
   "cell_type": "code",
   "execution_count": 2,
   "metadata": {
    "colab": {},
    "colab_type": "code",
    "id": "VsXWIGuSWgZ2",
    "outputId": "f02ac0eb-c40d-4dc8-fa32-dbf658d688b1"
   },
   "outputs": [
    {
     "name": "stdout",
     "output_type": "stream",
     "text": [
      "The four features selected by CCM on the orange skin dataset are features [2 0 1 3]\n"
     ]
    }
   ],
   "source": [
    "X, Y = generate_data(n=100, datatype='orange_skin', seed = 0)\n",
    "epsilon = 0.001; num_features = 4; type_Y = 'binary'\n",
    "rank = ccm.ccm(X, Y, num_features, type_Y, epsilon, iterations = 100, verbose = False)\n",
    "selected_feats = np.argsort(rank)[:4]\n",
    "print('The four features selected by CCM on the orange skin dataset are features {}'.format(selected_feats))"
   ]
  },
  {
   "cell_type": "code",
   "execution_count": 3,
   "metadata": {},
   "outputs": [
    {
     "name": "stdout",
     "output_type": "stream",
     "text": [
      "[ 2  3  1  4  6  7  8 10  9  5]\n"
     ]
    }
   ],
   "source": [
    "print(rank)"
   ]
  },
  {
   "cell_type": "markdown",
   "metadata": {
    "colab_type": "text",
    "id": "Hb6CI2bNWgZ7"
   },
   "source": [
    "# 4-Way Classification (XOR Dataset)"
   ]
  },
  {
   "cell_type": "code",
   "execution_count": null,
   "metadata": {
    "colab": {},
    "colab_type": "code",
    "id": "1G5niRNMWgZ9",
    "outputId": "361177b2-0513-414a-ba07-63b6c2f40b8c"
   },
   "outputs": [
    {
     "name": "stdout",
     "output_type": "stream",
     "text": [
      "The three features selected by CCM on the XOR dataset are features [0 2 1]\n"
     ]
    }
   ],
   "source": [
    "X, Y = generate_data(n=100, datatype='XOR', seed = 0)\n",
    "epsilon = 0.001; num_features = 3; type_Y = 'categorical'\n",
    "rank = ccm.ccm(X, Y, num_features, type_Y, epsilon, iterations = 100, verbose = False) \n",
    "selected_feats = np.argsort(rank)[:3]\n",
    "print('The three features selected by CCM on the XOR dataset are features {}'.format(selected_feats))"
   ]
  },
  {
   "cell_type": "markdown",
   "metadata": {
    "colab_type": "text",
    "id": "H9mYUm-vWgaB"
   },
   "source": [
    "# Additive Nonlinear Regression"
   ]
  },
  {
   "cell_type": "markdown",
   "metadata": {
    "colab_type": "text",
    "id": "gtSYrUu5WgaC"
   },
   "source": [
    "### (Nonlinear Regression Dataset)"
   ]
  },
  {
   "cell_type": "code",
   "execution_count": null,
   "metadata": {
    "colab": {},
    "colab_type": "code",
    "id": "2ya52CpGWgaD",
    "outputId": "747c72e2-3f1d-4819-e36b-0843e366b45e"
   },
   "outputs": [
    {
     "name": "stdout",
     "output_type": "stream",
     "text": [
      "The four features selected by CCM on the nonlinear regression dataset are features [3 2 1 0]\n"
     ]
    }
   ],
   "source": [
    "X, Y = generate_data(n=100, datatype='regression', seed = 0)\n",
    "epsilon = 0.1; num_features = 4; type_Y = 'real-valued'\n",
    "rank = ccm.ccm(X, Y, num_features, type_Y, epsilon, verbose = False) \n",
    "selected_feats = np.argsort(rank)[:4]\n",
    "print('The four features selected by CCM on the nonlinear regression dataset are features {}'.format(selected_feats))"
   ]
  },
  {
   "cell_type": "markdown",
   "metadata": {
    "colab_type": "text",
    "id": "DSsOrkQcWgaF"
   },
   "source": [
    "### (Approximate Nonlinear Regression Dataset)"
   ]
  },
  {
   "cell_type": "code",
   "execution_count": null,
   "metadata": {
    "colab": {},
    "colab_type": "code",
    "id": "miwRFdptWgaG",
    "outputId": "3c23dfe3-51a8-4aad-8df9-7e06cf2564cf"
   },
   "outputs": [
    {
     "name": "stdout",
     "output_type": "stream",
     "text": [
      "The four features selected by CCM on the approximate nonlinear regression dataset are features [3 2 1 9]\n"
     ]
    }
   ],
   "source": [
    "X, Y = generate_data(n=100, datatype='regression_approx', seed = 0)\n",
    "epsilon = 0.1; num_features = 4; type_Y = 'real-valued'\n",
    "rank = ccm.ccm(X, Y, num_features, type_Y, epsilon, D_approx=5, verbose = False) \n",
    "selected_feats = np.argsort(rank)[:4]\n",
    "print('The four features selected by CCM on the approximate nonlinear regression dataset are features {}'.format(selected_feats))"
   ]
  },
  {
   "cell_type": "code",
   "execution_count": null,
   "metadata": {
    "colab": {},
    "colab_type": "code",
    "id": "7qBSqZtQWgaJ"
   },
   "outputs": [],
   "source": []
  }
 ],
 "metadata": {
  "colab": {
   "name": "run_synthetic.ipynb",
   "provenance": [],
   "version": "0.3.2"
  },
  "kernelspec": {
   "display_name": "Python 3",
   "language": "python",
   "name": "python3"
  },
  "language_info": {
   "codemirror_mode": {
    "name": "ipython",
    "version": 3
   },
   "file_extension": ".py",
   "mimetype": "text/x-python",
   "name": "python",
   "nbconvert_exporter": "python",
   "pygments_lexer": "ipython3",
   "version": "3.6.2"
  }
 },
 "nbformat": 4,
 "nbformat_minor": 2
}
