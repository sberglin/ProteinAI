{
 "cells": [
  {
   "cell_type": "markdown",
   "metadata": {},
   "source": [
    "# Stochastic Gradient Descent (SGD) in Gaussian Processes"
   ]
  },
  {
   "cell_type": "markdown",
   "metadata": {},
   "source": [
    "In the past, SGD on Gaussian Processes has been understudied because the data is correlated. This document provides some simulations on it. It expands on \"SGD for Correlated Data\" by Moyan Li by examining whether different local minima give us good prediction results. To check this, we examine different starting points, batch sizes, and repeat the experiments."
   ]
  },
  {
   "cell_type": "markdown",
   "metadata": {},
   "source": [
    "## Simulation 1. One dimension"
   ]
  },
  {
   "cell_type": "markdown",
   "metadata": {},
   "source": [
    "### Data Generation"
   ]
  },
  {
   "cell_type": "code",
   "execution_count": null,
   "metadata": {},
   "outputs": [],
   "source": []
  },
  {
   "cell_type": "markdown",
   "metadata": {},
   "source": [
    "## Notes"
   ]
  },
  {
   "cell_type": "markdown",
   "metadata": {},
   "source": [
    "- Start with RBF kernel and small batch sizes (4, 8). The largest batch size Li used was 5.\n",
    "- Simulate data with `rnorm` as Li does.\n",
    "- Start by excluding noise. We can add it later.\n",
    "- We can add regularization in GPs if necessary.\n",
    "- We can forget about Negative Transfer for now.\n",
    "- Hao is working on a bound for prediction error based on eigenvalues of covariance matrix.\n",
    "\n",
    "**Future directions**\n",
    "- multivariate data"
   ]
  },
  {
   "cell_type": "code",
   "execution_count": null,
   "metadata": {},
   "outputs": [],
   "source": []
  }
 ],
 "metadata": {
  "kernelspec": {
   "display_name": "Python 3",
   "language": "python",
   "name": "python3"
  },
  "language_info": {
   "codemirror_mode": {
    "name": "ipython",
    "version": 3
   },
   "file_extension": ".py",
   "mimetype": "text/x-python",
   "name": "python",
   "nbconvert_exporter": "python",
   "pygments_lexer": "ipython3",
   "version": "3.6.2"
  }
 },
 "nbformat": 4,
 "nbformat_minor": 2
}
